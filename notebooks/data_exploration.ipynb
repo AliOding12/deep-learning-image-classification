{
 "cells": [
  {
   "cell_type": "markdown",
   "id": "11e4c593",
   "metadata": {},
   "source": [
    "# Data Exploration\n",
    "\n",
    "This notebook lets you quickly explore datasets used in the deep learning comparison project.\n",
    "\n",
    "- **MNIST** (handwritten digits)\n",
    "- **CIFAR-10** (10-class color images)\n",
    "- **Titanic** (tabular classification)\n",
    "\n",
    "Use the sections below to load and preview each dataset. You can comment/uncomment sections as needed."
   ]
  },
  {
   "cell_type": "markdown",
   "id": "5ccb4624",
   "metadata": {},
   "source": [
    "## Setup"
   ]
  },
  {
   "cell_type": "code",
   "execution_count": null,
   "id": "5c55be46",
   "metadata": {},
   "outputs": [],
   "source": [
    "import os\n",
    "import numpy as np\n",
    "import pandas as pd\n",
    "import matplotlib.pyplot as plt\n",
    "\n",
    "from sklearn.model_selection import train_test_split\n",
    "from sklearn.preprocessing import StandardScaler\n",
    "\n",
    "import tensorflow as tf\n",
    "from tensorflow.keras.datasets import mnist, cifar10\n"
   ]
  },
  {
   "cell_type": "markdown",
   "id": "0aee7d81",
   "metadata": {},
   "source": [
    "## MNIST: Load & Preview"
   ]
  },
  {
   "cell_type": "code",
   "execution_count": null,
   "id": "da2b5916",
   "metadata": {},
   "outputs": [],
   "source": [
    "# Load MNIST (grayscale 28x28 images)\n",
    "(X_train, y_train), (X_test, y_test) = mnist.load_data()\n",
    "print('MNIST shapes:', X_train.shape, X_test.shape)\n",
    "\n",
    "# Show a few samples\n",
    "plt.figure()\n",
    "for i in range(9):\n",
    "    plt.subplot(3,3,i+1)\n",
    "    plt.imshow(X_train[i], cmap='gray')\n",
    "    plt.title(int(y_train[i]))\n",
    "    plt.axis('off')\n",
    "plt.tight_layout()\n",
    "plt.show()\n"
   ]
  },
  {
   "cell_type": "markdown",
   "id": "ba0a9cf3",
   "metadata": {},
   "source": [
    "## CIFAR-10: Load & Preview"
   ]
  },
  {
   "cell_type": "code",
   "execution_count": null,
   "id": "2200b8b3",
   "metadata": {},
   "outputs": [],
   "source": [
    "# Load CIFAR-10 (RGB 32x32 images)\n",
    "(X_train_c, y_train_c), (X_test_c, y_test_c) = cifar10.load_data()\n",
    "print('CIFAR-10 shapes:', X_train_c.shape, X_test_c.shape)\n",
    "\n",
    "# Show a few samples\n",
    "plt.figure()\n",
    "for i in range(9):\n",
    "    plt.subplot(3,3,i+1)\n",
    "    plt.imshow(X_train_c[i])\n",
    "    plt.title(int(y_train_c[i]))\n",
    "    plt.axis('off')\n",
    "plt.tight_layout()\n",
    "plt.show()\n"
   ]
  },
  {
   "cell_type": "markdown",
   "id": "eda9ddf5",
   "metadata": {},
   "source": [
    "## Titanic: Load from CSV\n",
    "\n",
    "Place `train.csv` in `datasets/titanic/` or update the path below."
   ]
  },
  {
   "cell_type": "code",
   "execution_count": null,
   "id": "acabf908",
   "metadata": {},
   "outputs": [],
   "source": [
    "csv_path = '../datasets/titanic/train.csv'\n",
    "if os.path.exists(csv_path):\n",
    "    df = pd.read_csv(csv_path)\n",
    "    print('Titanic shape:', df.shape)\n",
    "    display(df.head())\n",
    "    # Basic preprocessing example\n",
    "    cols = ['Pclass','Sex','Age','Fare']\n",
    "    df = df.dropna(subset=['Age','Fare','Sex','Pclass'])\n",
    "    df['Sex'] = df['Sex'].map({'male':0, 'female':1})\n",
    "    X = df[cols].values\n",
    "    y = df['Survived'].values\n",
    "    print('Feature matrix shape:', X.shape)\n",
    "else:\n",
    "    print('Titanic CSV not found at', csv_path)\n"
   ]
  }
 ],
 "metadata": {},
 "nbformat": 4,
 "nbformat_minor": 5
}
